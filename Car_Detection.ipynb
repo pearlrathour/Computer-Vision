{
  "cells": [
    {
      "cell_type": "code",
      "execution_count": null,
      "metadata": {
        "id": "t4eEhUHCTZl4"
      },
      "outputs": [],
      "source": [
        "from google.colab import drive\n",
        "drive.mount('/gdrive')\n",
        "%cd /gdrive"
      ]
    },
    {
      "cell_type": "code",
      "execution_count": null,
      "metadata": {
        "id": "7QTRmCNES-QH"
      },
      "outputs": [],
      "source": [
        "import cv2\n",
        "import time\n",
        "import numpy as np\n",
        "from google.colab.patches import cv2_imshow"
      ]
    },
    {
      "cell_type": "code",
      "execution_count": null,
      "metadata": {
        "id": "vqSaDv2lS2jJ"
      },
      "outputs": [],
      "source": [
        "# Create car classifier\n",
        "car_classifier = cv2.CascadeClassifier('/gdrive/My Drive/Colab Notebooks/car.xml')\n",
        "\n",
        "# Initiate video capture for video file\n",
        "cap = cv2.VideoCapture('/gdrive/My Drive/Colab Notebooks/Images/traffic.mp4')"
      ]
    },
    {
      "cell_type": "code",
      "source": [
        "# Loop once video is successfully loaded\n",
        "while cap.isOpened():\n",
        "    time.sleep(.05)\n",
        "    # Read first frame\n",
        "    ret, frame = cap.read()\n",
        "    gray = cv2.cvtColor(frame, cv2.COLOR_BGR2GRAY)\n",
        "   \n",
        "    # Pass frame to our car classifier\n",
        "    cars = car_classifier.detectMultiScale(gray, 1.3, 5)\n",
        "    \n",
        "    # Extract bounding boxes for any bodies identified\n",
        "    for (x,y,w,h) in cars:\n",
        "      cv2.rectangle(frame, (x, y), (x+w, y+h), (0, 255, 255), 2)\n",
        "      cv2_imshow(frame)\n",
        "      \n",
        "    if cv2.waitKey(1) == 13: #13 is the Enter Key\n",
        "        break\n",
        "\n",
        "cap.release()\n",
        "cv2.destroyAllWindows()"
      ],
      "metadata": {
        "id": "bh_jKkzgfhOQ"
      },
      "execution_count": null,
      "outputs": []
    }
  ],
  "metadata": {
    "colab": {
      "provenance": [],
      "authorship_tag": "ABX9TyMdpg/5UY0q4myrZOYfAXPQ"
    },
    "kernelspec": {
      "display_name": "Python 3",
      "name": "python3"
    },
    "language_info": {
      "name": "python"
    }
  },
  "nbformat": 4,
  "nbformat_minor": 0
}