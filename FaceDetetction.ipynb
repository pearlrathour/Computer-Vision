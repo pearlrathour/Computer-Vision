{
 "cells": [
  {
   "cell_type": "code",
   "execution_count": 1,
   "metadata": {},
   "outputs": [
    {
     "ename": "error",
     "evalue": "OpenCV(4.6.0) C:\\b\\abs_d8ltn27ay8\\croot\\opencv-suite_1676452046667\\work\\modules\\objdetect\\src\\cascadedetect.cpp:1689: error: (-215:Assertion failed) !empty() in function 'cv::CascadeClassifier::detectMultiScale'\n",
     "output_type": "error",
     "traceback": [
      "\u001b[1;31m---------------------------------------------------------------------------\u001b[0m",
      "\u001b[1;31merror\u001b[0m                                     Traceback (most recent call last)",
      "Cell \u001b[1;32mIn[1], line 11\u001b[0m\n\u001b[0;32m      8\u001b[0m haar_cascade\u001b[38;5;241m=\u001b[39mcv\u001b[38;5;241m.\u001b[39mCascadeClassifier(\u001b[38;5;124m'\u001b[39m\u001b[38;5;124mHaarcascades/haarcascade_frontalface_default.xml\u001b[39m\u001b[38;5;124m'\u001b[39m)\n\u001b[0;32m     10\u001b[0m \u001b[38;5;66;03m#rectangular coordinates for images present\u001b[39;00m\n\u001b[1;32m---> 11\u001b[0m faces_rect\u001b[38;5;241m=\u001b[39m\u001b[43mhaar_cascade\u001b[49m\u001b[38;5;241;43m.\u001b[39;49m\u001b[43mdetectMultiScale\u001b[49m\u001b[43m(\u001b[49m\u001b[43mgray\u001b[49m\u001b[43m,\u001b[49m\u001b[43m \u001b[49m\u001b[38;5;241;43m1.300742\u001b[39;49m\u001b[43m,\u001b[49m\u001b[43m \u001b[49m\u001b[38;5;241;43m7\u001b[39;49m\u001b[43m)\u001b[49m\n\u001b[0;32m     13\u001b[0m \u001b[38;5;28mprint\u001b[39m(\u001b[38;5;124mf\u001b[39m\u001b[38;5;124m'\u001b[39m\u001b[38;5;124mNumber of faces found= \u001b[39m\u001b[38;5;132;01m{\u001b[39;00m\u001b[38;5;28mlen\u001b[39m(faces_rect)\u001b[38;5;132;01m}\u001b[39;00m\u001b[38;5;124m'\u001b[39m)\n\u001b[0;32m     15\u001b[0m \u001b[38;5;28;01mfor\u001b[39;00m(x,y,w,h) \u001b[38;5;129;01min\u001b[39;00m faces_rect:\n",
      "\u001b[1;31merror\u001b[0m: OpenCV(4.6.0) C:\\b\\abs_d8ltn27ay8\\croot\\opencv-suite_1676452046667\\work\\modules\\objdetect\\src\\cascadedetect.cpp:1689: error: (-215:Assertion failed) !empty() in function 'cv::CascadeClassifier::detectMultiScale'\n"
     ]
    }
   ],
   "source": [
    "import cv2 as cv\n",
    "\n",
    "image=cv.imread('Images\\img1.jpg')\n",
    "img=cv.resize(image, (1000,700), interpolation=cv.INTER_CUBIC)\n",
    "gray = cv.cvtColor(img, cv.COLOR_BGR2GRAY)\n",
    "\n",
    "#haar_cascade highly sensitive to noise\n",
    "haar_cascade=cv.CascadeClassifier('Haarcascades/haarcascade_frontalface_default.xml')\n",
    "\n",
    "#rectangular coordinates for images present\n",
    "faces_rect=haar_cascade.detectMultiScale(gray, 1.300742, 7)\n",
    "\n",
    "print(f'Number of faces found= {len(faces_rect)}')\n",
    "\n",
    "for(x,y,w,h) in faces_rect:\n",
    "    cv.rectangle(img, (x,y), (x+w,y+h), (0,255,0), thickness=1)\n",
    "    \n",
    "cv.imshow('Face Detection', img)\n",
    "cv.waitKey(0)"
   ]
  }
 ],
 "metadata": {
  "kernelspec": {
   "display_name": "Python 3.10.10 ('vsc')",
   "language": "python",
   "name": "python3"
  },
  "language_info": {
   "codemirror_mode": {
    "name": "ipython",
    "version": 3
   },
   "file_extension": ".py",
   "mimetype": "text/x-python",
   "name": "python",
   "nbconvert_exporter": "python",
   "pygments_lexer": "ipython3",
   "version": "3.10.10"
  },
  "orig_nbformat": 4,
  "vscode": {
   "interpreter": {
    "hash": "de6803e8d3ca0fb41be8ce16d80d86f2f073fac4cee6f06fcae515feaff14c58"
   }
  }
 },
 "nbformat": 4,
 "nbformat_minor": 2
}
