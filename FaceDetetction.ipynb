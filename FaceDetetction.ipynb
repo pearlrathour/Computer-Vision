{
 "cells": [
  {
   "cell_type": "code",
   "execution_count": 1,
   "metadata": {},
   "outputs": [
    {
     "name": "stdout",
     "output_type": "stream",
     "text": [
      "Number of faces found= 21\n"
     ]
    }
   ],
   "source": [
    "import cv2 as cv\n",
    "\n",
    "image=cv.imread('Images\\img1.jpg')\n",
    "img=cv.resize(image, (1000,700), interpolation=cv.INTER_CUBIC)\n",
    "gray = cv.cvtColor(img, cv.COLOR_BGR2GRAY)\n",
    "\n",
    "#haar_cascade highly sensitive to noise\n",
    "haar_cascade=cv.CascadeClassifier('haarcascade_frontalface_default.xml')\n",
    "\n",
    "#rectangular coordinates for images present\n",
    "faces_rect=haar_cascade.detectMultiScale(gray, 1.3098354, 1)\n",
    "\n",
    "print(f'Number of faces found= {len(faces_rect)}')\n",
    "\n",
    "for(x,y,w,h) in faces_rect:\n",
    "    cv.rectangle(img, (x,y), (x+w,y+h), (0,255,0), thickness=1)\n",
    "    \n",
    "cv.imshow('Face Detection', img)\n",
    "cv.waitKey(0)"
   ]
  }
 ],
 "metadata": {
  "kernelspec": {
   "display_name": "Python 3.10.10 ('vsc')",
   "language": "python",
   "name": "python3"
  },
  "language_info": {
   "codemirror_mode": {
    "name": "ipython",
    "version": 3
   },
   "file_extension": ".py",
   "mimetype": "text/x-python",
   "name": "python",
   "nbconvert_exporter": "python",
   "pygments_lexer": "ipython3",
   "version": "3.10.10"
  },
  "orig_nbformat": 4,
  "vscode": {
   "interpreter": {
    "hash": "de6803e8d3ca0fb41be8ce16d80d86f2f073fac4cee6f06fcae515feaff14c58"
   }
  }
 },
 "nbformat": 4,
 "nbformat_minor": 2
}
