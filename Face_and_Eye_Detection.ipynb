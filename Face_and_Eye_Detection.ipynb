{
  "nbformat": 4,
  "nbformat_minor": 0,
  "metadata": {
    "colab": {
      "provenance": [],
      "authorship_tag": "ABX9TyPnZzrUzvp7kG02EwS+mdmx",
      "include_colab_link": true
    },
    "kernelspec": {
      "name": "python3",
      "display_name": "Python 3"
    },
    "language_info": {
      "name": "python"
    }
  },
  "cells": [
    {
      "cell_type": "markdown",
      "metadata": {
        "id": "view-in-github",
        "colab_type": "text"
      },
      "source": [
        "<a href=\"https://colab.research.google.com/github/pearlrathour/Computer-Vision/blob/main/Face_and_Eye_Detection.ipynb\" target=\"_parent\"><img src=\"https://colab.research.google.com/assets/colab-badge.svg\" alt=\"Open In Colab\"/></a>"
      ]
    },
    {
      "cell_type": "code",
      "source": [
        "from google.colab import drive\n",
        "drive.mount('/gdrive')\n",
        "%cd /gdrive"
      ],
      "metadata": {
        "id": "6_pEZeugSGWb"
      },
      "execution_count": null,
      "outputs": []
    },
    {
      "cell_type": "code",
      "execution_count": 4,
      "metadata": {
        "id": "q6CYwsRPJHYn"
      },
      "outputs": [],
      "source": [
        "import cv2\n",
        "import numpy as np\n",
        "from google.colab.patches import cv2_imshow"
      ]
    },
    {
      "cell_type": "code",
      "source": [
        "image = cv2.imread('/gdrive/My Drive/Colab Notebooks/Images/ElonMusk.jpg')\n",
        "img=cv2.resize(image, (500,500), interpolation=cv2.INTER_NEAREST)\n",
        "gray = cv2.cvtColor(img, cv2.COLOR_BGR2GRAY)\n",
        "\n",
        "face_classifier=cv2.CascadeClassifier(cv2.data.haarcascades + \"haarcascade_frontalface_default.xml\")\n",
        "eye_classifier=cv2.CascadeClassifier(cv2.data.haarcascades + 'haarcascade_eye.xml')\n",
        "faces_rect=face_classifier.detectMultiScale(gray, 1.3, 7)\n",
        "\n",
        "if faces_rect == ():\n",
        "    print(\"No Face Found\")"
      ],
      "metadata": {
        "id": "_rM16I8ERzmE"
      },
      "execution_count": null,
      "outputs": []
    },
    {
      "cell_type": "code",
      "source": [
        "for (x,y,w,h) in faces_rect:\n",
        "    cv2.rectangle(img,(x,y),(x+w,y+h), (255,0,255), 2)\n",
        "    roi_gray = gray[y:y+h, x:x+w]\n",
        "    roi_color = img[y:y+h, x:x+w]\n",
        "    eyes_rect =eye_classifier.detectMultiScale(roi_gray, 1.3, 5)\n",
        "    for (ex,ey,ew,eh) in eyes_rect:\n",
        "        cv2.rectangle(roi_color,(ex,ey),(ex+ew,ey+eh), (255,0,255), 2)\n",
        "    cv2_imshow(img)\n",
        "    cv2.waitKey(0)\n",
        "    \n",
        "cv2.destroyAllWindows()"
      ],
      "metadata": {
        "id": "FnaPpJ4qFKSb"
      },
      "execution_count": null,
      "outputs": []
    }
  ]
}